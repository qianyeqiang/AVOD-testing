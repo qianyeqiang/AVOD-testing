{
 "cells": [
  {
   "cell_type": "markdown",
   "metadata": {},
   "source": [
    "# Finding Lane Lines on the Road - Jack Qian"
   ]
  },
  {
   "cell_type": "raw",
   "metadata": {},
   "source": [
    "import related library files"
   ]
  },
  {
   "cell_type": "code",
   "execution_count": 11,
   "metadata": {},
   "outputs": [],
   "source": [
    "from pyntcloud import PyntCloud\n",
    "import numpy as np\n",
    "import os\n",
    "import time"
   ]
  },
  {
   "cell_type": "markdown",
   "metadata": {},
   "source": [
    "define main code of  image process"
   ]
  },
  {
   "cell_type": "code",
   "execution_count": 12,
   "metadata": {},
   "outputs": [],
   "source": [
    "path_in = \"/home/jackqian/avod/make_planes/\"\n",
    "path_kitti = \"/home/jackqian/KITTI/training/velodyne/\"\n",
    "path_kitti_testing = \"/home/jackqian/KITTI/testing/velodyne/\"\n",
    "path_save = \"/media/jackqian/新加卷/Ubuntu/avod/make_planes/\"\n",
    "path_training_bin3 = \"/media/jackqian/新加卷/Ubuntu/avod/make_planes/kittilidar_training_qyqmake/\"\n",
    "file1 = \"000008.bin\"\n",
    "file2 = \"1.bin\""
   ]
  },
  {
   "cell_type": "markdown",
   "metadata": {},
   "source": [
    "Read in and grayscale the image"
   ]
  },
  {
   "cell_type": "code",
   "execution_count": 13,
   "metadata": {},
   "outputs": [],
   "source": [
    "def cau_planes():\n",
    "    \"\"\"\n",
    "    using Ransac in PyntCloud to find the groud plane.\n",
    "    Note the lidar points have transformed to the camera coordinate.\n",
    "    :return: groud plane parameters (A, B, C, D) for Ax+By+Cz+D=0.\n",
    "    \"\"\"\n",
    "\n",
    "    last_time = time.time()\n",
    "    cloud = PyntCloud.from_file(path_training_bin3 + file1)\n",
    "    #print(cloud)\n",
    "    #cloud.points.describe()\n",
    "    #cloud.points.boxplot()\n",
    "    #cloud.plot(mesh=True, backend=\"threejs\")\n",
    "    #cloud.plot()\n",
    "    #cloud.points\n",
    "    #scatter_matrix(cloud.points, diagonal=\"kde\", figsize=(8, 8))\n",
    "\n",
    "    is_floor = cloud.add_scalar_field(\"plane_fit\", n_inliers_to_stop=len(cloud.points)/30 , max_dist=0.01,max_iterations=500)\n",
    "    #is_floor = cloud.add_scalar_field(\"plane_fit\")\n",
    "    cloud.plot(use_as_color=is_floor, cmap = \"cool\", Point)\n",
    "\n",
    "    cloud.points = cloud.points[cloud.points[is_floor] > 0]\n",
    "    cloud.plot()\n",
    "    \n",
    "    normal_final = np.zeros(4)\n",
    "    for i in range(1):\n",
    "\n",
    "        three_points = cloud.get_sample(\"points_random\", n=3, as_PyntCloud=False)\n",
    "\n",
    "        three_points_np = []\n",
    "        for i in range(len(three_points)):\n",
    "            three_points_np.append(np.array([three_points[\"x\"][i], three_points[\"y\"][i], three_points[\"z\"][i]]))\n",
    "        vector_one = three_points_np[1] - three_points_np[0]\n",
    "        vector_two = three_points_np[2] - three_points_np[0]\n",
    "\n",
    "        normal = np.cross(vector_one, vector_two)\n",
    "        D = - (normal[0]*three_points_np[0][0] + normal[1]*three_points_np[0][1] + normal[2]*three_points_np[0][2])\n",
    "        normal = np.hstack((normal, D))\n",
    "        normal_final = normal_final + normal\n",
    "    #normal_final = normal_final/10\n",
    "\n",
    "    if normal_final[3] < 0:\n",
    "        normal_final = -normal_final\n",
    "    off = normal_final[3]/1.65\n",
    "    normal_final = normal_final / off\n",
    "    normal_normalized = normal_final / np.linalg.norm(normal_final)\n",
    "\n",
    "\n",
    "    current_time = time.time()\n",
    "    #print(\"cost_time: \", current_time - last_time)\n",
    "\n",
    "    #print(\"normal:\", normal_final)\n",
    "    #print(\"normal_normalized:\", normal_normalized)"
   ]
  },
  {
   "cell_type": "code",
   "execution_count": 14,
   "metadata": {
    "scrolled": false
   },
   "outputs": [
    {
     "data": {
      "application/vnd.jupyter.widget-view+json": {
       "model_id": "8178a01afd224277b5dd5bff24c55b3e",
       "version_major": 2,
       "version_minor": 0
      },
      "text/plain": [
       "Renderer(camera=PerspectiveCamera(aspect=1.6, fov=90.0, position=(-0.45624852180480957, 17.097603917121887, 11…"
      ]
     },
     "metadata": {},
     "output_type": "display_data"
    },
    {
     "data": {
      "application/vnd.jupyter.widget-view+json": {
       "model_id": "765f89a754fa4063aabbc8ad0177991a",
       "version_major": 2,
       "version_minor": 0
      },
      "text/plain": [
       "HBox(children=(Label(value='Point size:'), FloatSlider(value=14.599147033691406, max=145.99147033691406, step=…"
      ]
     },
     "metadata": {},
     "output_type": "display_data"
    },
    {
     "data": {
      "application/vnd.jupyter.widget-view+json": {
       "model_id": "ea2f84baab104fd48b20948ab5bdcbeb",
       "version_major": 2,
       "version_minor": 0
      },
      "text/plain": [
       "Renderer(camera=PerspectiveCamera(aspect=1.6, fov=90.0, position=(-2.659806489944458, 3.7175880670547485, 80.4…"
      ]
     },
     "metadata": {},
     "output_type": "display_data"
    },
    {
     "data": {
      "application/vnd.jupyter.widget-view+json": {
       "model_id": "bc38b56e92a040aeb6fa92d006fce3c1",
       "version_major": 2,
       "version_minor": 0
      },
      "text/plain": [
       "HBox(children=(Label(value='Point size:'), FloatSlider(value=10.654501342773438, max=106.54501342773438, step=…"
      ]
     },
     "metadata": {},
     "output_type": "display_data"
    }
   ],
   "source": [
    "cau_planes()"
   ]
  },
  {
   "cell_type": "code",
   "execution_count": 15,
   "metadata": {},
   "outputs": [
    {
     "name": "stdout",
     "output_type": "stream",
     "text": [
      "<pyntcloud.ransac.models.RansacSphere object at 0x7f57e10732b0>\n"
     ]
    },
    {
     "name": "stderr",
     "output_type": "stream",
     "text": [
      "/usr/local/lib/python3.5/dist-packages/pyntcloud/geometry/models/sphere.py:83: FutureWarning: `rcond` parameter will change to the default of machine precision times ``max(M, N)`` where M and N are the input matrix dimensions.\n",
      "To use the future default and silence this warning we advise to pass `rcond=None`, to keep using the old, explicitly pass `rcond=-1`.\n",
      "  center, residules, rank, singval = np.linalg.lstsq(A, f)\n"
     ]
    }
   ],
   "source": [
    "from pyntcloud import PyntCloud\n",
    "cloud = PyntCloud.from_file(path_training_bin3 + file1)\n",
    "# cloud.plot(use_as_color=\"z\", point_size=2)\n",
    " \n",
    "from pyntcloud.ransac import single_fit, RansacSphere\n",
    "inliers, model = single_fit(cloud.xyz, RansacSphere, return_model=True)\n",
    "print(model)\n",
    "\n",
    "#print(model.center)\n",
    "# array([  2.04683742e-15,   2.84217094e-14,  -5.06828830e-07])\n",
    "#print(cloud.xyz.mean(0))\n",
    "# array([ -4.16906794e-08,   8.33813587e-08,   3.33525435e-07], dtype=float32)\n",
    " \n",
    "#print(model.radius)\n",
    "# 24.999997417679129\n",
    "#print(cloud.xyz.ptp(0))\n",
    "# array([ 50.        ,  49.94900131,  49.93859863], dtype=float32)\n",
    "# ptp are the distances between min and max point along x, y and z axis\n",
    "# makes sense to have radius = 25"
   ]
  }
 ],
 "metadata": {
  "kernelspec": {
   "display_name": "Python 2",
   "language": "python",
   "name": "python2"
  },
  "language_info": {
   "codemirror_mode": {
    "name": "ipython",
    "version": 3
   },
   "file_extension": ".py",
   "mimetype": "text/x-python",
   "name": "python",
   "nbconvert_exporter": "python",
   "pygments_lexer": "ipython3",
   "version": "3.5.3"
  }
 },
 "nbformat": 4,
 "nbformat_minor": 2
}
